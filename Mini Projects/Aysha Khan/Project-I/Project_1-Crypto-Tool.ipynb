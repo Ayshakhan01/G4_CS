{
 "cells": [
  {
   "cell_type": "code",
   "execution_count": 3,
   "id": "a3f378ad",
   "metadata": {},
   "outputs": [
    {
     "name": "stdout",
     "output_type": "stream",
     "text": [
      "Enter the Message:}tHiS_is_T0 + TeSt--YoU{\n",
      "Encrypted message: yMlVblvbY5%.%YhVy00\\rX~\n"
     ]
    }
   ],
   "source": [
    "#ENCRYPTION ALGORITHM_By_Aysha\n",
    "txt=input(\"Enter the Message:\")\n",
    "new_txt=\"\"\n",
    "key=4\n",
    "for i in txt:\n",
    "    value=ord(i)\n",
    "    if(value%2==0):\n",
    "        values=value+1+key\n",
    "    else:\n",
    "        values=value-1+key\n",
    "    char=chr(values);\n",
    "    new_txt+=char\n",
    "print(\"Encrypted message:\",new_txt)"
   ]
  },
  {
   "cell_type": "code",
   "execution_count": 5,
   "id": "ed2a5fd2",
   "metadata": {},
   "outputs": [
    {
     "name": "stdout",
     "output_type": "stream",
     "text": [
      "Enter the Message to decrypt:yMlVblvbY5%.%YhVy00\\rX~\n",
      "Actual Message:  }tHiS_is_T0 + TeSt--YoU{\n"
     ]
    }
   ],
   "source": [
    "#DECRYPTION ALGORITHM_By_Aysha\n",
    "txt=input(\"Enter the Message to decrypt:\")\n",
    "new_txt=\"\"\n",
    "key=4\n",
    "for i in txt:\n",
    "    value=ord(i)\n",
    "    if(value%2==0):\n",
    "        values=value+1-key\n",
    "    else:\n",
    "        values=value-1-key\n",
    "    char=chr(values);\n",
    "    new_txt+=char\n",
    "print(\"Actual Message: \",new_txt)"
   ]
  },
  {
   "cell_type": "code",
   "execution_count": null,
   "id": "0dfbb2bf",
   "metadata": {},
   "outputs": [],
   "source": []
  }
 ],
 "metadata": {
  "kernelspec": {
   "display_name": "Python 3 (ipykernel)",
   "language": "python",
   "name": "python3"
  },
  "language_info": {
   "codemirror_mode": {
    "name": "ipython",
    "version": 3
   },
   "file_extension": ".py",
   "mimetype": "text/x-python",
   "name": "python",
   "nbconvert_exporter": "python",
   "pygments_lexer": "ipython3",
   "version": "3.11.3"
  }
 },
 "nbformat": 4,
 "nbformat_minor": 5
}
